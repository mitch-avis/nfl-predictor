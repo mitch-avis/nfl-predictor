{
 "cells": [
  {
   "cell_type": "code",
   "execution_count": 1,
   "metadata": {},
   "outputs": [],
   "source": [
    "from sportsipy.nfl.boxscore import Boxscore, Boxscores\n",
    "import pandas as pd"
   ]
  },
  {
   "cell_type": "code",
   "execution_count": 2,
   "metadata": {},
   "outputs": [
    {
     "data": {
      "text/html": [
       "<div>\n",
       "<style scoped>\n",
       "    .dataframe tbody tr th:only-of-type {\n",
       "        vertical-align: middle;\n",
       "    }\n",
       "\n",
       "    .dataframe tbody tr th {\n",
       "        vertical-align: top;\n",
       "    }\n",
       "\n",
       "    .dataframe thead th {\n",
       "        text-align: right;\n",
       "    }\n",
       "</style>\n",
       "<table border=\"1\" class=\"dataframe\">\n",
       "  <thead>\n",
       "    <tr style=\"text-align: right;\">\n",
       "      <th></th>\n",
       "      <th>attendance</th>\n",
       "      <th>away_first_downs</th>\n",
       "      <th>away_fourth_down_attempts</th>\n",
       "      <th>away_fourth_down_conversions</th>\n",
       "      <th>away_fumbles</th>\n",
       "      <th>away_fumbles_lost</th>\n",
       "      <th>away_interceptions</th>\n",
       "      <th>away_net_pass_yards</th>\n",
       "      <th>away_pass_attempts</th>\n",
       "      <th>away_pass_completions</th>\n",
       "      <th>...</th>\n",
       "      <th>roof</th>\n",
       "      <th>stadium</th>\n",
       "      <th>surface</th>\n",
       "      <th>time</th>\n",
       "      <th>vegas_line</th>\n",
       "      <th>weather</th>\n",
       "      <th>winner</th>\n",
       "      <th>winning_abbr</th>\n",
       "      <th>winning_name</th>\n",
       "      <th>won_toss</th>\n",
       "    </tr>\n",
       "  </thead>\n",
       "  <tbody>\n",
       "    <tr>\n",
       "      <th>202009100kan</th>\n",
       "      <td>15895</td>\n",
       "      <td>21</td>\n",
       "      <td>1</td>\n",
       "      <td>1</td>\n",
       "      <td>0</td>\n",
       "      <td>0</td>\n",
       "      <td>1</td>\n",
       "      <td>242</td>\n",
       "      <td>32</td>\n",
       "      <td>20</td>\n",
       "      <td>...</td>\n",
       "      <td>Outdoors</td>\n",
       "      <td>Arrowhead Stadium</td>\n",
       "      <td>Grass</td>\n",
       "      <td>8:20pm</td>\n",
       "      <td>Kansas City Chiefs -9.5</td>\n",
       "      <td>56 degrees, relative humidity 95%, wind 7 mph</td>\n",
       "      <td>Away</td>\n",
       "      <td>HTX</td>\n",
       "      <td>Houston Texans</td>\n",
       "      <td>Chiefs (deferred)</td>\n",
       "    </tr>\n",
       "  </tbody>\n",
       "</table>\n",
       "<p>1 rows × 65 columns</p>\n",
       "</div>"
      ],
      "text/plain": [
       "              attendance  away_first_downs  away_fourth_down_attempts  \\\n",
       "202009100kan       15895                21                          1   \n",
       "\n",
       "              away_fourth_down_conversions  away_fumbles  away_fumbles_lost  \\\n",
       "202009100kan                             1             0                  0   \n",
       "\n",
       "              away_interceptions  away_net_pass_yards  away_pass_attempts  \\\n",
       "202009100kan                   1                  242                  32   \n",
       "\n",
       "              away_pass_completions  ...      roof            stadium  \\\n",
       "202009100kan                     20  ...  Outdoors  Arrowhead Stadium   \n",
       "\n",
       "              surface    time               vegas_line  \\\n",
       "202009100kan    Grass  8:20pm  Kansas City Chiefs -9.5   \n",
       "\n",
       "                                                    weather  winner  \\\n",
       "202009100kan  56 degrees, relative humidity 95%, wind 7 mph    Away   \n",
       "\n",
       "              winning_abbr    winning_name           won_toss  \n",
       "202009100kan           HTX  Houston Texans  Chiefs (deferred)  \n",
       "\n",
       "[1 rows x 65 columns]"
      ]
     },
     "execution_count": 2,
     "metadata": {},
     "output_type": "execute_result"
    }
   ],
   "source": [
    "game_str = Boxscores(1, 2020).games[\"1-2020\"][0][\"boxscore\"]\n",
    "game_stats = Boxscore(game_str)\n",
    "game_stats.dataframe"
   ]
  },
  {
   "cell_type": "code",
   "execution_count": 3,
   "metadata": {},
   "outputs": [
    {
     "data": {
      "text/plain": [
       "Index(['attendance', 'away_first_downs', 'away_fourth_down_attempts',\n",
       "       'away_fourth_down_conversions', 'away_fumbles', 'away_fumbles_lost',\n",
       "       'away_interceptions', 'away_net_pass_yards', 'away_pass_attempts',\n",
       "       'away_pass_completions', 'away_pass_touchdowns', 'away_pass_yards',\n",
       "       'away_penalties', 'away_points', 'away_rush_attempts',\n",
       "       'away_rush_touchdowns', 'away_rush_yards', 'away_third_down_attempts',\n",
       "       'away_third_down_conversions', 'away_time_of_possession',\n",
       "       'away_times_sacked', 'away_total_yards', 'away_turnovers',\n",
       "       'away_yards_from_penalties', 'away_yards_lost_from_sacks', 'date',\n",
       "       'datetime', 'duration', 'home_first_downs', 'home_fourth_down_attempts',\n",
       "       'home_fourth_down_conversions', 'home_fumbles', 'home_fumbles_lost',\n",
       "       'home_interceptions', 'home_net_pass_yards', 'home_pass_attempts',\n",
       "       'home_pass_completions', 'home_pass_touchdowns', 'home_pass_yards',\n",
       "       'home_penalties', 'home_points', 'home_rush_attempts',\n",
       "       'home_rush_touchdowns', 'home_rush_yards', 'home_third_down_attempts',\n",
       "       'home_third_down_conversions', 'home_time_of_possession',\n",
       "       'home_times_sacked', 'home_total_yards', 'home_turnovers',\n",
       "       'home_yards_from_penalties', 'home_yards_lost_from_sacks',\n",
       "       'losing_abbr', 'losing_name', 'over_under', 'roof', 'stadium',\n",
       "       'surface', 'time', 'vegas_line', 'weather', 'winner', 'winning_abbr',\n",
       "       'winning_name', 'won_toss'],\n",
       "      dtype='object')"
      ]
     },
     "execution_count": 3,
     "metadata": {},
     "output_type": "execute_result"
    }
   ],
   "source": [
    "game_stats.dataframe.columns"
   ]
  },
  {
   "cell_type": "code",
   "execution_count": 4,
   "metadata": {},
   "outputs": [],
   "source": [
    "def get_schedule(year):\n",
    "    weeks = list(range(1, 18))\n",
    "    schedule_df = pd.DataFrame()\n",
    "    for w in range(len(weeks)):\n",
    "        date_string = str(weeks[w]) + \"-\" + str(year)\n",
    "        week_scores = Boxscores(weeks[w], year)\n",
    "        week_games_df = pd.DataFrame()\n",
    "        for g in range(len(week_scores.games[date_string])):\n",
    "            game = pd.DataFrame(week_scores.games[date_string][g], index=[0])[\n",
    "                [\"away_name\", \"away_abbr\", \"home_name\", \"home_abbr\", \"winning_name\", \"winning_abbr\"]\n",
    "            ]\n",
    "            game[\"week\"] = weeks[w]\n",
    "            week_games_df = pd.concat([week_games_df, game])\n",
    "            schedule_df = (\n",
    "                pd.concat([schedule_df, week_games_df]).reset_index().drop(columns=\"index\")\n",
    "            )\n",
    "    return schedule_df"
   ]
  }
 ],
 "metadata": {
  "kernelspec": {
   "display_name": ".venv",
   "language": "python",
   "name": "python3"
  },
  "language_info": {
   "codemirror_mode": {
    "name": "ipython",
    "version": 3
   },
   "file_extension": ".py",
   "mimetype": "text/x-python",
   "name": "python",
   "nbconvert_exporter": "python",
   "pygments_lexer": "ipython3",
   "version": "3.12.4"
  }
 },
 "nbformat": 4,
 "nbformat_minor": 2
}
